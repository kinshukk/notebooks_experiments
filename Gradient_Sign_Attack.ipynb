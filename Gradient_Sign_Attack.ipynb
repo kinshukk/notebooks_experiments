{
  "nbformat": 4,
  "nbformat_minor": 0,
  "metadata": {
    "colab": {
      "name": "FGSA_mnist.ipynb",
      "provenance": [],
      "collapsed_sections": []
    },
    "kernelspec": {
      "name": "python3",
      "display_name": "Python 3"
    },
    "accelerator": "GPU"
  },
  "cells": [
    {
      "cell_type": "markdown",
      "metadata": {
        "id": "AqHoLCiDDD1I",
        "colab_type": "text"
      },
      "source": [
        "#Using the Fast Gradient Sign Attack to fool a classifier"
      ]
    },
    {
      "cell_type": "code",
      "metadata": {
        "id": "8qjtTDd65JfK",
        "colab_type": "code",
        "colab": {}
      },
      "source": [
        "import matplotlib.pyplot as plt\n",
        "import torch\n",
        "import torch.nn as nn\n",
        "import torch.nn.functional as F\n",
        "import torch.utils.data\n",
        "import torch.optim as optim\n",
        "import numpy as np"
      ],
      "execution_count": 0,
      "outputs": []
    },
    {
      "cell_type": "code",
      "metadata": {
        "id": "Out43XxT5WBY",
        "colab_type": "code",
        "colab": {}
      },
      "source": [
        "%matplotlib inline"
      ],
      "execution_count": 0,
      "outputs": []
    },
    {
      "cell_type": "code",
      "metadata": {
        "id": "Aqcl0v3O5pLF",
        "colab_type": "code",
        "outputId": "d6dcbb1c-0835-4842-ba97-c049e88b2ca3",
        "colab": {
          "base_uri": "https://localhost:8080/",
          "height": 35
        }
      },
      "source": [
        "torch.cuda.is_available()"
      ],
      "execution_count": 0,
      "outputs": [
        {
          "output_type": "execute_result",
          "data": {
            "text/plain": [
              "True"
            ]
          },
          "metadata": {
            "tags": []
          },
          "execution_count": 3
        }
      ]
    },
    {
      "cell_type": "code",
      "metadata": {
        "id": "GxUh0sO-9VI4",
        "colab_type": "code",
        "colab": {}
      },
      "source": [
        "fashion_mnist_link = r\"https://github.com/zalandoresearch/fashion-mnist/archive/\"\n",
        "import requests\n",
        "import zipfile\n",
        "from pathlib import Path\n",
        "\n",
        "filename = \"master.zip\"\n",
        "path = Path(\".\")\n",
        "data_path = path / \"data\"\n",
        "\n",
        "if not (path / filename).exists():\n",
        "    data = requests.get(fashion_mnist_link + filename).content\n",
        "    (path / filename).open(\"wb\").write(data)\n",
        "\n",
        "with zipfile.ZipFile(path / filename, \"r\") as _:\n",
        "    _.extractall(data_path)"
      ],
      "execution_count": 0,
      "outputs": []
    },
    {
      "cell_type": "code",
      "metadata": {
        "id": "bpbAJCFIMT0a",
        "colab_type": "code",
        "outputId": "b3450abb-1cea-40ab-f1fc-bf9f672ad36c",
        "colab": {
          "base_uri": "https://localhost:8080/",
          "height": 108
        }
      },
      "source": [
        "!mv data/fashion-mnist-master/* data/\n",
        "!ls data"
      ],
      "execution_count": 0,
      "outputs": [
        {
          "output_type": "stream",
          "text": [
            "app.py\t\t doc\t\t       README.ja.md\t utils\n",
            "benchmark\t Dockerfile\t       README.md\t visualization\n",
            "configs.py\t fashion-mnist-master  README.zh-CN.md\n",
            "CONTRIBUTING.md  LICENSE\t       requirements.txt\n",
            "data\t\t MAINTAINERS\t       static\n"
          ],
          "name": "stdout"
        }
      ]
    },
    {
      "cell_type": "code",
      "metadata": {
        "id": "Ct8Dw9JnMlCs",
        "colab_type": "code",
        "colab": {}
      },
      "source": [
        "import data.utils.mnist_reader as mnist_reader"
      ],
      "execution_count": 0,
      "outputs": []
    },
    {
      "cell_type": "code",
      "metadata": {
        "id": "nB8NSS43M0Uw",
        "colab_type": "code",
        "colab": {}
      },
      "source": [
        "x_train, y_train = mnist_reader.load_mnist(data_path / 'data/fashion', kind='train')\n",
        "x_test, y_test = mnist_reader.load_mnist(data_path / 'data/fashion', kind='t10k')"
      ],
      "execution_count": 0,
      "outputs": []
    },
    {
      "cell_type": "code",
      "metadata": {
        "id": "j28_O0dsM5uV",
        "colab_type": "code",
        "outputId": "0329ee94-e3e6-44ac-b9c8-a15c043af480",
        "colab": {
          "base_uri": "https://localhost:8080/",
          "height": 35
        }
      },
      "source": [
        "x_train, x_test = map(\n",
        "    lambda a: torch.tensor(a),\n",
        "    (x_train, x_test)\n",
        ")\n",
        " \n",
        "y_train, y_test = map(\n",
        "    lambda a:torch.tensor(a, dtype=torch.long),\n",
        "    (y_train, y_test)\n",
        ")\n",
        "\n",
        "#because CNNs require dimensions (N, C, W, H)\n",
        "#so inserting a singleton dimension since we have grayscale images\n",
        "x_train = x_train.reshape(-1, 28, 28).float().unsqueeze(1)\n",
        "x_test = x_test.reshape(-1, 28, 28).float().unsqueeze(1)\n",
        "y_train.dtype"
      ],
      "execution_count": 0,
      "outputs": [
        {
          "output_type": "execute_result",
          "data": {
            "text/plain": [
              "torch.int64"
            ]
          },
          "metadata": {
            "tags": []
          },
          "execution_count": 10
        }
      ]
    },
    {
      "cell_type": "code",
      "metadata": {
        "id": "5KNZPIeJ3E-S",
        "colab_type": "code",
        "outputId": "54661298-adc1-4a97-ac3f-e1fe71431418",
        "colab": {
          "base_uri": "https://localhost:8080/",
          "height": 35
        }
      },
      "source": [
        "print(x_train.shape, y_train.shape)"
      ],
      "execution_count": 0,
      "outputs": [
        {
          "output_type": "stream",
          "text": [
            "torch.Size([60000, 1, 28, 28]) torch.Size([60000])\n"
          ],
          "name": "stdout"
        }
      ]
    },
    {
      "cell_type": "code",
      "metadata": {
        "id": "OmQgBczPN0yH",
        "colab_type": "code",
        "colab": {}
      },
      "source": [
        "from itertools import count\n",
        "\n",
        "def images_show(images, w, h, colormap=\"gray\"):\n",
        "    for image, c in zip(images, count()):\n",
        "        plt.subplot(w, h, c+1)\n",
        "        plt.xticks([], [])\n",
        "        plt.yticks([], [])\n",
        "        plt.imshow(image[0], cmap=colormap)\n",
        "    \n",
        "    plt.show()"
      ],
      "execution_count": 0,
      "outputs": []
    },
    {
      "cell_type": "code",
      "metadata": {
        "id": "B2KhqKF6RPBa",
        "colab_type": "code",
        "outputId": "9374a2b7-058d-4da6-a5ba-9779edabf5a3",
        "colab": {
          "base_uri": "https://localhost:8080/",
          "height": 560
        }
      },
      "source": [
        "plt.rcParams[\"figure.figsize\"] = [10, 10]\n",
        "images_show(x_train[:20], 4, 5)"
      ],
      "execution_count": 0,
      "outputs": [
        {
          "output_type": "display_data",
          "data": {
            "image/png": "[encoded data removed]",
            "text/plain": [
              "<Figure size 720x720 with 20 Axes>"
            ]
          },
          "metadata": {
            "tags": []
          }
        }
      ]
    },
    {
      "cell_type": "code",
      "metadata": {
        "id": "vz0IV0X_VmQz",
        "colab_type": "code",
        "colab": {}
      },
      "source": [
        "def train(model, x_train, y_train, num_epochs, optimizer, bs):\n",
        "    #not even random sampling, just taking labelled examples in a sequence of batches\n",
        "    for epoch in range(num_epochs):\n",
        "        for i in range((x_train.shape[0] // bs)):\n",
        "            start_i = i * bs\n",
        "            end_i = start_i + bs\n",
        "            optimizer.zero_grad()\n",
        "            \n",
        "            xb = x_train[start_i:end_i].to(\"cuda\")\n",
        "            yb = y_train[start_i:end_i].to(\"cuda\")\n",
        "            \n",
        "            try:\n",
        "                preds = model(xb)\n",
        "            except:\n",
        "                print(xb.shape, yb.shape)\n",
        "                return\n",
        "                \n",
        "            loss = F.nll_loss(preds, yb)\n",
        "            loss.backward()\n",
        "            optimizer.step()\n",
        "\n",
        "            if (i + 1) % 50 == 0:\n",
        "                print(\"Epoch {}: [{} / {}]\\tbatch #{} loss {}\".format(\n",
        "                    epoch, end_i, x_train.shape[0], i, loss.item()\n",
        "                ))\n",
        "                \n",
        "def test(model, x_test, y_test, bs):\n",
        "    test_loss = 0.0\n",
        "    correct = 0\n",
        "    \n",
        "    with torch.no_grad():\n",
        "        for i in range((x_test.shape[0] // bs)):\n",
        "            start_i = i * bs\n",
        "            end_i = start_i + bs\n",
        "            \n",
        "            xb = x_test[start_i:end_i].to(\"cuda\")\n",
        "            yb = y_test[start_i:end_i].to(\"cuda\")\n",
        "            \n",
        "            preds = model(xb)\n",
        "            test_loss += F.nll_loss(preds, yb)\n",
        "            \n",
        "            preds = preds.argmax(dim=1)\n",
        "            correct += preds.eq(yb).sum().item()\n",
        "    \n",
        "    test_loss /= x_test.shape[0]\n",
        "    \n",
        "    print(\"Test average loss:{} accuracy:{}/{}\".format(\n",
        "        test_loss, correct, x_test.shape[0]\n",
        "    ))\n",
        "\n",
        "def test_confusion(model, x_test, y_test, classes, bs):\n",
        "    confusion_matrix = torch.zeros(len(classes), len(classes), dtype=torch.int)\n",
        "    \n",
        "    with torch.no_grad():\n",
        "        for i in range((x_test.shape[0] // bs)):\n",
        "            start_i = i * bs\n",
        "            end_i = start_i + bs\n",
        "            \n",
        "            xb = x_test[start_i:end_i].to(\"cuda\")\n",
        "            yb = y_test[start_i:end_i].to(\"cuda\")\n",
        "            \n",
        "            preds = model(xb)\n",
        "            \n",
        "            preds = preds.argmax(dim=1)\n",
        "            \n",
        "            confusion_matrix[yb.item()][preds.item()] += 1\n",
        "    \n",
        "    return confusion_matrix"
      ],
      "execution_count": 0,
      "outputs": []
    },
    {
      "cell_type": "code",
      "metadata": {
        "id": "0wihat95xTQU",
        "colab_type": "code",
        "colab": {}
      },
      "source": [
        "classes = {\n",
        "    0: \"T-shirt/top\",\n",
        "    1: \"Trouser\",\n",
        "    2: \"Pullover\",\n",
        "    3: \"Dress\",\n",
        "    4: \"Coat\",\n",
        "    5: \"Sandal\",\n",
        "    6: \"Shirt\",\n",
        "    7: \"Sneaker\",\n",
        "    8: \"Bag\",\n",
        "    9: \"Ankle boot\"\n",
        "}"
      ],
      "execution_count": 0,
      "outputs": []
    },
    {
      "cell_type": "code",
      "metadata": {
        "id": "E1gOyK35RyB9",
        "colab_type": "code",
        "outputId": "21496cdb-b411-4c34-a501-bb46c132b179",
        "colab": {
          "base_uri": "https://localhost:8080/",
          "height": 1000
        }
      },
      "source": [
        "class Net3(nn.Module):\n",
        "    def __init__(self):\n",
        "        super().__init__()\n",
        "        #in_channels, out_channels, kernel_size, stride\n",
        "        self.conv1 = nn.Conv2d(in_channels=1, out_channels=10, kernel_size=3, stride=1)\n",
        "        self.conv2 = nn.Conv2d(in_channels=10, out_channels=20, kernel_size=4, stride=1)\n",
        "        self.fc1 = nn.Linear(5*5*20, 32)\n",
        "        self.fc2 = nn.Linear(32, 10)\n",
        "        self.logging = False\n",
        "    \n",
        "    def forward(self, xb):\n",
        "        if self.logging:\n",
        "            print(\"\\n\\nforward start:\")        \n",
        "            print(xb.shape)\n",
        "        x = F.relu(self.conv1(xb))\n",
        "        if self.logging:\n",
        "            print(x.shape)\n",
        "        x = F.avg_pool2d(x, 2, 2)\n",
        "        if self.logging:\n",
        "            print(x.shape)\n",
        "        x = F.relu(self.conv2(x))\n",
        "        if self.logging:\n",
        "            print(x.shape)\n",
        "        x = F.avg_pool2d(x, 2, 2)\n",
        "        if self.logging:\n",
        "            print(x.shape)\n",
        "        #image transformed to 5*5, out_channels of conv2 are 20\n",
        "        x = x.view(-1, 5*5*20)\n",
        "        if self.logging:\n",
        "            print(x.shape)\n",
        "        x = F.relu(self.fc1(x))\n",
        "        if self.logging:\n",
        "            print(x.shape)\n",
        "        x = self.fc2(x)\n",
        "        if self.logging:\n",
        "            print(x.shape)\n",
        "            print(\"forward end\\n\\n\")\n",
        "        return F.log_softmax(x, dim=1)\n",
        "    \n",
        "    def toggle_logging_(self):\n",
        "        self.logging = !self.logging\n",
        "\n",
        "model3 = Net3().to(\"cuda\")\n",
        "optimizer3 = optim.RMSprop(model3.parameters())\n",
        "\n",
        "train(model3, x_train, y_train, 15, optimizer3, 100)\n",
        "\n",
        "test(model3, x_test, y_test, 100)"
      ],
      "execution_count": 0,
      "outputs": [
        {
          "output_type": "stream",
          "text": [
            "Epoch 0: [5000 / 60000]\tbatch #49 loss 0.8379426002502441\n",
            "Epoch 0: [10000 / 60000]\tbatch #99 loss 0.6856131553649902\n",
            "Epoch 0: [15000 / 60000]\tbatch #149 loss 0.8884991407394409\n",
            "Epoch 0: [20000 / 60000]\tbatch #199 loss 0.8719473481178284\n",
            "Epoch 0: [25000 / 60000]\tbatch #249 loss 0.6143337488174438\n",
            "Epoch 0: [30000 / 60000]\tbatch #299 loss 0.5885372161865234\n",
            "Epoch 0: [35000 / 60000]\tbatch #349 loss 0.5896936655044556\n",
            "Epoch 0: [40000 / 60000]\tbatch #399 loss 0.6890996694564819\n",
            "Epoch 0: [45000 / 60000]\tbatch #449 loss 0.6239812970161438\n",
            "Epoch 0: [50000 / 60000]\tbatch #499 loss 0.678301215171814\n",
            "Epoch 0: [55000 / 60000]\tbatch #549 loss 0.598120927810669\n",
            "Epoch 0: [60000 / 60000]\tbatch #599 loss 0.5059942007064819\n",
            "Epoch 1: [5000 / 60000]\tbatch #49 loss 0.5939986705780029\n",
            "Epoch 1: [10000 / 60000]\tbatch #99 loss 0.5777676105499268\n",
            "Epoch 1: [15000 / 60000]\tbatch #149 loss 0.6876615881919861\n",
            "Epoch 1: [20000 / 60000]\tbatch #199 loss 0.6624082922935486\n",
            "Epoch 1: [25000 / 60000]\tbatch #249 loss 0.4648047983646393\n",
            "Epoch 1: [30000 / 60000]\tbatch #299 loss 0.5533204078674316\n",
            "Epoch 1: [35000 / 60000]\tbatch #349 loss 0.507347583770752\n",
            "Epoch 1: [40000 / 60000]\tbatch #399 loss 0.4088396430015564\n",
            "Epoch 1: [45000 / 60000]\tbatch #449 loss 0.5986371636390686\n",
            "Epoch 1: [50000 / 60000]\tbatch #499 loss 0.5103049874305725\n",
            "Epoch 1: [55000 / 60000]\tbatch #549 loss 0.5669402480125427\n",
            "Epoch 1: [60000 / 60000]\tbatch #599 loss 0.3619515895843506\n",
            "Epoch 2: [5000 / 60000]\tbatch #49 loss 0.3807826340198517\n",
            "Epoch 2: [10000 / 60000]\tbatch #99 loss 0.35154905915260315\n",
            "Epoch 2: [15000 / 60000]\tbatch #149 loss 0.4359024167060852\n",
            "Epoch 2: [20000 / 60000]\tbatch #199 loss 0.5210336446762085\n",
            "Epoch 2: [25000 / 60000]\tbatch #249 loss 0.344282865524292\n",
            "Epoch 2: [30000 / 60000]\tbatch #299 loss 0.4932785928249359\n",
            "Epoch 2: [35000 / 60000]\tbatch #349 loss 0.4463734030723572\n",
            "Epoch 2: [40000 / 60000]\tbatch #399 loss 0.5247095227241516\n",
            "Epoch 2: [45000 / 60000]\tbatch #449 loss 0.6101219058036804\n",
            "Epoch 2: [50000 / 60000]\tbatch #499 loss 0.5676930546760559\n",
            "Epoch 2: [55000 / 60000]\tbatch #549 loss 0.40696486830711365\n",
            "Epoch 2: [60000 / 60000]\tbatch #599 loss 0.3279880881309509\n",
            "Epoch 3: [5000 / 60000]\tbatch #49 loss 0.3718158006668091\n",
            "Epoch 3: [10000 / 60000]\tbatch #99 loss 0.25851330161094666\n",
            "Epoch 3: [15000 / 60000]\tbatch #149 loss 0.42460811138153076\n",
            "Epoch 3: [20000 / 60000]\tbatch #199 loss 0.4878620207309723\n",
            "Epoch 3: [25000 / 60000]\tbatch #249 loss 0.283466637134552\n",
            "Epoch 3: [30000 / 60000]\tbatch #299 loss 0.4232609272003174\n",
            "Epoch 3: [35000 / 60000]\tbatch #349 loss 0.3933311700820923\n",
            "Epoch 3: [40000 / 60000]\tbatch #399 loss 0.2711021304130554\n",
            "Epoch 3: [45000 / 60000]\tbatch #449 loss 0.5627902746200562\n",
            "Epoch 3: [50000 / 60000]\tbatch #499 loss 0.47186434268951416\n",
            "Epoch 3: [55000 / 60000]\tbatch #549 loss 0.45413970947265625\n",
            "Epoch 3: [60000 / 60000]\tbatch #599 loss 0.2906560003757477\n",
            "Epoch 4: [5000 / 60000]\tbatch #49 loss 0.35417380928993225\n",
            "Epoch 4: [10000 / 60000]\tbatch #99 loss 0.2513556480407715\n",
            "Epoch 4: [15000 / 60000]\tbatch #149 loss 0.4045226573944092\n",
            "Epoch 4: [20000 / 60000]\tbatch #199 loss 0.4638410806655884\n",
            "Epoch 4: [25000 / 60000]\tbatch #249 loss 0.36421364545822144\n",
            "Epoch 4: [30000 / 60000]\tbatch #299 loss 0.43970242142677307\n",
            "Epoch 4: [35000 / 60000]\tbatch #349 loss 0.3499319851398468\n",
            "Epoch 4: [40000 / 60000]\tbatch #399 loss 0.3113783001899719\n",
            "Epoch 4: [45000 / 60000]\tbatch #449 loss 0.5369129776954651\n",
            "Epoch 4: [50000 / 60000]\tbatch #499 loss 0.5558756589889526\n",
            "Epoch 4: [55000 / 60000]\tbatch #549 loss 0.39100998640060425\n",
            "Epoch 4: [60000 / 60000]\tbatch #599 loss 0.27728337049484253\n",
            "Epoch 5: [5000 / 60000]\tbatch #49 loss 0.3265538513660431\n",
            "Epoch 5: [10000 / 60000]\tbatch #99 loss 0.3092693090438843\n",
            "Epoch 5: [15000 / 60000]\tbatch #149 loss 0.3347983956336975\n",
            "Epoch 5: [20000 / 60000]\tbatch #199 loss 0.36585792899131775\n",
            "Epoch 5: [25000 / 60000]\tbatch #249 loss 0.2696511149406433\n",
            "Epoch 5: [30000 / 60000]\tbatch #299 loss 0.41177502274513245\n",
            "Epoch 5: [35000 / 60000]\tbatch #349 loss 0.44395872950553894\n",
            "Epoch 5: [40000 / 60000]\tbatch #399 loss 0.3176266551017761\n",
            "Epoch 5: [45000 / 60000]\tbatch #449 loss 0.6705020666122437\n",
            "Epoch 5: [50000 / 60000]\tbatch #499 loss 0.5011295080184937\n",
            "Epoch 5: [55000 / 60000]\tbatch #549 loss 0.3622881770133972\n",
            "Epoch 5: [60000 / 60000]\tbatch #599 loss 0.2476283311843872\n",
            "Epoch 6: [5000 / 60000]\tbatch #49 loss 0.4317493438720703\n",
            "Epoch 6: [10000 / 60000]\tbatch #99 loss 0.2670815587043762\n",
            "Epoch 6: [15000 / 60000]\tbatch #149 loss 0.3136792480945587\n",
            "Epoch 6: [20000 / 60000]\tbatch #199 loss 0.3516717553138733\n",
            "Epoch 6: [25000 / 60000]\tbatch #249 loss 0.2904842793941498\n",
            "Epoch 6: [30000 / 60000]\tbatch #299 loss 0.37254172563552856\n",
            "Epoch 6: [35000 / 60000]\tbatch #349 loss 0.455936998128891\n",
            "Epoch 6: [40000 / 60000]\tbatch #399 loss 0.289702832698822\n",
            "Epoch 6: [45000 / 60000]\tbatch #449 loss 0.5457839965820312\n",
            "Epoch 6: [50000 / 60000]\tbatch #499 loss 0.45987170934677124\n",
            "Epoch 6: [55000 / 60000]\tbatch #549 loss 0.33922821283340454\n",
            "Epoch 6: [60000 / 60000]\tbatch #599 loss 0.26806968450546265\n",
            "Epoch 7: [5000 / 60000]\tbatch #49 loss 0.36434367299079895\n",
            "Epoch 7: [10000 / 60000]\tbatch #99 loss 0.32510772347450256\n",
            "Epoch 7: [15000 / 60000]\tbatch #149 loss 0.2381953001022339\n",
            "Epoch 7: [20000 / 60000]\tbatch #199 loss 0.38616666197776794\n",
            "Epoch 7: [25000 / 60000]\tbatch #249 loss 0.33872100710868835\n",
            "Epoch 7: [30000 / 60000]\tbatch #299 loss 0.40417900681495667\n",
            "Epoch 7: [35000 / 60000]\tbatch #349 loss 0.43141213059425354\n",
            "Epoch 7: [40000 / 60000]\tbatch #399 loss 0.34095609188079834\n",
            "Epoch 7: [45000 / 60000]\tbatch #449 loss 0.48631271719932556\n",
            "Epoch 7: [50000 / 60000]\tbatch #499 loss 0.490413635969162\n",
            "Epoch 7: [55000 / 60000]\tbatch #549 loss 0.33356624841690063\n",
            "Epoch 7: [60000 / 60000]\tbatch #599 loss 0.21748504042625427\n",
            "Epoch 8: [5000 / 60000]\tbatch #49 loss 0.4121725857257843\n",
            "Epoch 8: [10000 / 60000]\tbatch #99 loss 0.23271995782852173\n",
            "Epoch 8: [15000 / 60000]\tbatch #149 loss 0.23151852190494537\n",
            "Epoch 8: [20000 / 60000]\tbatch #199 loss 0.3815135657787323\n",
            "Epoch 8: [25000 / 60000]\tbatch #249 loss 0.32159313559532166\n",
            "Epoch 8: [30000 / 60000]\tbatch #299 loss 0.4719705879688263\n",
            "Epoch 8: [35000 / 60000]\tbatch #349 loss 0.37984248995780945\n",
            "Epoch 8: [40000 / 60000]\tbatch #399 loss 0.30389639735221863\n",
            "Epoch 8: [45000 / 60000]\tbatch #449 loss 0.45244061946868896\n",
            "Epoch 8: [50000 / 60000]\tbatch #499 loss 0.5241628885269165\n",
            "Epoch 8: [55000 / 60000]\tbatch #549 loss 0.28349390625953674\n",
            "Epoch 8: [60000 / 60000]\tbatch #599 loss 0.17815792560577393\n",
            "Epoch 9: [5000 / 60000]\tbatch #49 loss 0.45873919129371643\n",
            "Epoch 9: [10000 / 60000]\tbatch #99 loss 0.22742146253585815\n",
            "Epoch 9: [15000 / 60000]\tbatch #149 loss 0.2473977655172348\n",
            "Epoch 9: [20000 / 60000]\tbatch #199 loss 0.37858375906944275\n",
            "Epoch 9: [25000 / 60000]\tbatch #249 loss 0.34131133556365967\n",
            "Epoch 9: [30000 / 60000]\tbatch #299 loss 0.36098742485046387\n",
            "Epoch 9: [35000 / 60000]\tbatch #349 loss 0.44306591153144836\n",
            "Epoch 9: [40000 / 60000]\tbatch #399 loss 0.308565229177475\n",
            "Epoch 9: [45000 / 60000]\tbatch #449 loss 0.49426037073135376\n",
            "Epoch 9: [50000 / 60000]\tbatch #499 loss 0.4283773899078369\n",
            "Epoch 9: [55000 / 60000]\tbatch #549 loss 0.3257749080657959\n",
            "Epoch 9: [60000 / 60000]\tbatch #599 loss 0.2500644624233246\n",
            "Epoch 10: [5000 / 60000]\tbatch #49 loss 0.4130452275276184\n",
            "Epoch 10: [10000 / 60000]\tbatch #99 loss 0.20693150162696838\n",
            "Epoch 10: [15000 / 60000]\tbatch #149 loss 0.24445629119873047\n",
            "Epoch 10: [20000 / 60000]\tbatch #199 loss 0.3500426411628723\n",
            "Epoch 10: [25000 / 60000]\tbatch #249 loss 0.2646324038505554\n",
            "Epoch 10: [30000 / 60000]\tbatch #299 loss 0.34426403045654297\n",
            "Epoch 10: [35000 / 60000]\tbatch #349 loss 0.41930022835731506\n",
            "Epoch 10: [40000 / 60000]\tbatch #399 loss 0.3521091043949127\n",
            "Epoch 10: [45000 / 60000]\tbatch #449 loss 0.46234503388404846\n",
            "Epoch 10: [50000 / 60000]\tbatch #499 loss 0.46338218450546265\n",
            "Epoch 10: [55000 / 60000]\tbatch #549 loss 0.31380629539489746\n",
            "Epoch 10: [60000 / 60000]\tbatch #599 loss 0.23457467555999756\n",
            "Epoch 11: [5000 / 60000]\tbatch #49 loss 0.4459415078163147\n",
            "Epoch 11: [10000 / 60000]\tbatch #99 loss 0.3057902157306671\n",
            "Epoch 11: [15000 / 60000]\tbatch #149 loss 0.4125344157218933\n",
            "Epoch 11: [20000 / 60000]\tbatch #199 loss 0.38160765171051025\n",
            "Epoch 11: [25000 / 60000]\tbatch #249 loss 0.281727135181427\n",
            "Epoch 11: [30000 / 60000]\tbatch #299 loss 0.3047088086605072\n",
            "Epoch 11: [35000 / 60000]\tbatch #349 loss 0.45688503980636597\n",
            "Epoch 11: [40000 / 60000]\tbatch #399 loss 0.32337719202041626\n",
            "Epoch 11: [45000 / 60000]\tbatch #449 loss 0.3992742896080017\n",
            "Epoch 11: [50000 / 60000]\tbatch #499 loss 0.4402770698070526\n",
            "Epoch 11: [55000 / 60000]\tbatch #549 loss 0.33945709466934204\n",
            "Epoch 11: [60000 / 60000]\tbatch #599 loss 0.2069387286901474\n",
            "Epoch 12: [5000 / 60000]\tbatch #49 loss 0.40474456548690796\n",
            "Epoch 12: [10000 / 60000]\tbatch #99 loss 0.19879098236560822\n",
            "Epoch 12: [15000 / 60000]\tbatch #149 loss 0.2760432958602905\n",
            "Epoch 12: [20000 / 60000]\tbatch #199 loss 0.35393691062927246\n",
            "Epoch 12: [25000 / 60000]\tbatch #249 loss 0.3470727503299713\n",
            "Epoch 12: [30000 / 60000]\tbatch #299 loss 0.41100025177001953\n",
            "Epoch 12: [35000 / 60000]\tbatch #349 loss 0.3925548791885376\n",
            "Epoch 12: [40000 / 60000]\tbatch #399 loss 0.27691325545310974\n",
            "Epoch 12: [45000 / 60000]\tbatch #449 loss 0.4649554193019867\n",
            "Epoch 12: [50000 / 60000]\tbatch #499 loss 0.4741802513599396\n",
            "Epoch 12: [55000 / 60000]\tbatch #549 loss 0.2660297751426697\n",
            "Epoch 12: [60000 / 60000]\tbatch #599 loss 0.3272798955440521\n",
            "Epoch 13: [5000 / 60000]\tbatch #49 loss 0.3350282907485962\n",
            "Epoch 13: [10000 / 60000]\tbatch #99 loss 0.41186362504959106\n",
            "Epoch 13: [15000 / 60000]\tbatch #149 loss 0.2727266550064087\n",
            "Epoch 13: [20000 / 60000]\tbatch #199 loss 0.2938767373561859\n",
            "Epoch 13: [25000 / 60000]\tbatch #249 loss 0.27415230870246887\n",
            "Epoch 13: [30000 / 60000]\tbatch #299 loss 0.3435328006744385\n",
            "Epoch 13: [35000 / 60000]\tbatch #349 loss 0.39562371373176575\n",
            "Epoch 13: [40000 / 60000]\tbatch #399 loss 0.3054995834827423\n",
            "Epoch 13: [45000 / 60000]\tbatch #449 loss 0.48512211441993713\n",
            "Epoch 13: [50000 / 60000]\tbatch #499 loss 0.45931652188301086\n",
            "Epoch 13: [55000 / 60000]\tbatch #549 loss 0.3060346841812134\n",
            "Epoch 13: [60000 / 60000]\tbatch #599 loss 0.21207834780216217\n",
            "Epoch 14: [5000 / 60000]\tbatch #49 loss 0.3586124777793884\n",
            "Epoch 14: [10000 / 60000]\tbatch #99 loss 0.22113662958145142\n",
            "Epoch 14: [15000 / 60000]\tbatch #149 loss 0.2526285648345947\n",
            "Epoch 14: [20000 / 60000]\tbatch #199 loss 0.32695552706718445\n",
            "Epoch 14: [25000 / 60000]\tbatch #249 loss 0.2743995785713196\n",
            "Epoch 14: [30000 / 60000]\tbatch #299 loss 0.36089184880256653\n",
            "Epoch 14: [35000 / 60000]\tbatch #349 loss 0.46753525733947754\n",
            "Epoch 14: [40000 / 60000]\tbatch #399 loss 0.29907459020614624\n",
            "Epoch 14: [45000 / 60000]\tbatch #449 loss 0.41565877199172974\n",
            "Epoch 14: [50000 / 60000]\tbatch #499 loss 0.42355087399482727\n",
            "Epoch 14: [55000 / 60000]\tbatch #549 loss 0.3150775730609894\n",
            "Epoch 14: [60000 / 60000]\tbatch #599 loss 0.19700787961483002\n",
            "Test average loss:0.0042318967171013355 accuracy:8646/10000\n"
          ],
          "name": "stdout"
        }
      ]
    },
    {
      "cell_type": "code",
      "metadata": {
        "id": "duvhXCqFkR1R",
        "colab_type": "code",
        "outputId": "4098e1a2-d1c9-435f-da64-7cdb2ae85649",
        "colab": {
          "base_uri": "https://localhost:8080/",
          "height": 627
        }
      },
      "source": [
        "mat = test_confusion(model3, x_test, y_test, classes,  1)\n",
        "\n",
        "plt.rcParams[\"figure.figsize\"] = [10, 10]\n",
        "plt.imshow(mat, cmap=\"Blues\")\n",
        "plt.xticks(np.arange(0, len(classes)), list(classes.values()))\n",
        "plt.yticks(np.arange(0, len(classes)), list(classes.values()))\n",
        "\n",
        "for i in range(mat.shape[0]):\n",
        "    for j in range(mat.shape[1]):\n",
        "        plt.text(j, i, \"{}\".format(mat[i][j]), horizontalalignment=\"center\", color=\"red\")\n",
        "\n",
        "plt.xlabel(\"predicted labels\")\n",
        "plt.ylabel(\"true labels\")"
      ],
      "execution_count": 0,
      "outputs": [
        {
          "output_type": "execute_result",
          "data": {
            "text/plain": [
              "Text(0, 0.5, 'true labels')"
            ]
          },
          "metadata": {
            "tags": []
          },
          "execution_count": 19
        },
        {
          "output_type": "display_data",
          "data": {
            "image/png": "[encoded data removed]",
            "text/plain": [
              "<Figure size 720x720 with 1 Axes>"
            ]
          },
          "metadata": {
            "tags": []
          }
        }
      ]
    },
    {
      "cell_type": "code",
      "metadata": {
        "id": "Spj5gbymSGJ-",
        "colab_type": "code",
        "colab": {}
      },
      "source": [
        "def fgsa_get_nabla_sign(model, x_single, y_single):\n",
        "    data = x_single.clone().to(\"cuda\")\n",
        "    label = y_single.clone().to(\"cuda\")\n",
        "    data.requires_grad = True\n",
        "    \n",
        "    pred = model(data)\n",
        "    loss = F.nll_loss(pred, label)\n",
        "    \n",
        "    loss.backward()\n",
        "    \n",
        "    data_grad = data.grad.data\n",
        "    \n",
        "    return data_grad.sign()\n",
        "\n",
        "def rescale_tensor(t):\n",
        "    \"\"\"rescale values to be in [0, 1]\"\"\"\n",
        "    a = t.clone()\n",
        "    b = t.clone()\n",
        "    for i in range(t.dim()):\n",
        "        a = a.max(t.dim()-i-1).values\n",
        "        b = b.min(t.dim()-i-1).values\n",
        "    print(\"max: {}\".format(a.item()))\n",
        "    print(\"min: {}\".format(b.item()))\n",
        "    return (t - b.item()) / (a.item() - b.item())"
      ],
      "execution_count": 0,
      "outputs": []
    },
    {
      "cell_type": "code",
      "metadata": {
        "id": "NCX1AFCvAsID",
        "colab_type": "code",
        "colab": {}
      },
      "source": [
        "epsilons = [0.0, 0.001, 0.005, 0.01, 0.05, 0.1, 0.5, 1.0, 5.0, 10.0]\n",
        "\n",
        "def find_min_fooling_eps(model, x_single, y_single):\n",
        "    nabla = fgsa_get_nabla_sign(model, x_single, y_single)\n",
        "    #x_single is in cpu, nabla in in cuda\n",
        "    \n",
        "    for eps in epsilons:\n",
        "        t = x_single.to(\"cuda\") + eps * nabla\n",
        "        pred = model(t).to(\"cpu\")\n",
        "        p = pred.argmax(1)[0].item()\n",
        "        if p != y_single.item():\n",
        "            return eps\n",
        "    return None"
      ],
      "execution_count": 0,
      "outputs": []
    },
    {
      "cell_type": "code",
      "metadata": {
        "id": "89c90QSUBBYh",
        "colab_type": "code",
        "colab": {}
      },
      "source": [
        "min_epsilons = []\n",
        "for i in range(x_train.shape[0]):\n",
        "    min_epsilons.append(find_min_fooling_eps(model3, x_train[i:i+1], y_train[i:i+1]))\n",
        "    if i % 100 == 0:\n",
        "        print(\"#{}\".format(i))"
      ],
      "execution_count": 0,
      "outputs": []
    },
    {
      "cell_type": "code",
      "metadata": {
        "id": "sOZuLQcOTVWd",
        "colab_type": "code",
        "outputId": "a229cf28-ac61-48e1-a4b9-476552443483",
        "colab": {
          "base_uri": "https://localhost:8080/",
          "height": 35
        }
      },
      "source": [
        "min_epsilons.count(0.001)"
      ],
      "execution_count": 0,
      "outputs": [
        {
          "output_type": "execute_result",
          "data": {
            "text/plain": [
              "43"
            ]
          },
          "metadata": {
            "tags": []
          },
          "execution_count": 37
        }
      ]
    },
    {
      "cell_type": "code",
      "metadata": {
        "id": "YCmJiq29DSJM",
        "colab_type": "code",
        "outputId": "d9d7e54a-7a7a-4401-ba2a-5667d7ed1880",
        "colab": {
          "base_uri": "https://localhost:8080/",
          "height": 885
        }
      },
      "source": [
        "counter = 0\n",
        "plt.rcParams[\"figure.figsize\"] = [10, 10]\n",
        "\n",
        "for i in range(50000):\n",
        "    if min_epsilons[i] is not None and 0.0 < min_epsilons[i] <= 0.001:\n",
        "        nabla = fgsa_get_nabla_sign(model3, x_train[i:i+1], y_train[i:i+1])\n",
        "        img = x_train[i].squeeze(0) + min_epsilons[i] * nabla.to(\"cpu\").squeeze(0).squeeze(0)\n",
        "        with torch.no_grad():\n",
        "            predicted = model3(img.unsqueeze(0).unsqueeze(0).to(\"cuda\")).to(\"cpu\").squeeze(0).argmax(0)\n",
        "            print(predicted, y_train[i].squeeze(0))\n",
        "        plt.subplot(4, 4, counter+1)\n",
        "        plt.xticks([], [])\n",
        "        plt.yticks([], [])\n",
        "        plt.title(\"{} -> {}\".format(classes[y_train[i].squeeze(0).item()], classes[predicted.item()]))\n",
        "        plt.ylabel(\"eps {}\".format(min_epsilons[i]))\n",
        "        plt.imshow(img, cmap=\"gray\")\n",
        "        counter += 1\n",
        "    if counter >= 16:\n",
        "        break\n",
        "plt.show()"
      ],
      "execution_count": 0,
      "outputs": [
        {
          "output_type": "stream",
          "text": [
            "tensor(8) tensor(0)\n",
            "tensor(5) tensor(7)\n",
            "tensor(6) tensor(4)\n",
            "tensor(8) tensor(5)\n",
            "tensor(2) tensor(4)\n",
            "tensor(4) tensor(6)\n",
            "tensor(9) tensor(7)\n",
            "tensor(4) tensor(3)\n",
            "tensor(3) tensor(4)\n",
            "tensor(0) tensor(6)\n",
            "tensor(4) tensor(2)\n",
            "tensor(0) tensor(3)\n",
            "tensor(4) tensor(2)\n",
            "tensor(6) tensor(0)\n",
            "tensor(3) tensor(0)\n",
            "tensor(4) tensor(2)\n"
          ],
          "name": "stdout"
        },
        {
          "output_type": "display_data",
          "data": {
            "image/png": "[encoded data removed]",
            "text/plain": [
              "<Figure size 720x720 with 16 Axes>"
            ]
          },
          "metadata": {
            "tags": []
          }
        }
      ]
    }
  ]
}