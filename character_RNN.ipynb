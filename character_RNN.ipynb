{
  "nbformat": 4,
  "nbformat_minor": 0,
  "metadata": {
    "colab": {
      "name": "character_RNN.ipynb",
      "version": "0.3.2",
      "provenance": [],
      "collapsed_sections": []
    },
    "kernelspec": {
      "name": "python3",
      "display_name": "Python 3"
    }
  },
  "cells": [
    {
      "cell_type": "code",
      "metadata": {
        "id": "voyCrZBf8LSq",
        "colab_type": "code",
        "colab": {}
      },
      "source": [
        "import torch"
      ],
      "execution_count": 0,
      "outputs": []
    },
    {
      "cell_type": "code",
      "metadata": {
        "id": "FVNzo22O71tU",
        "colab_type": "code",
        "colab": {}
      },
      "source": [
        "from pathlib import Path\n",
        "\n",
        "data_link = \"https://download.pytorch.org/tutorial/\"\n",
        "filename = \"data.zip\"\n",
        "data_path = Path(\"./data\")\n",
        "\n",
        "if not data_path.exists():\n",
        "    data_path.mkdir(parents=True)"
      ],
      "execution_count": 0,
      "outputs": []
    },
    {
      "cell_type": "code",
      "metadata": {
        "id": "EbZnQz4X8KMs",
        "colab_type": "code",
        "colab": {}
      },
      "source": [
        "import requests\n",
        "\n",
        "if not (data_path / filename).exists():\n",
        "    content = requests.get(data_link + filename).content\n",
        "    (data_path / filename).open(\"wb\").write(content)"
      ],
      "execution_count": 0,
      "outputs": []
    },
    {
      "cell_type": "code",
      "metadata": {
        "id": "MQaXZ9np9VYV",
        "colab_type": "code",
        "colab": {}
      },
      "source": [
        "from zipfile import ZipFile"
      ],
      "execution_count": 0,
      "outputs": []
    },
    {
      "cell_type": "code",
      "metadata": {
        "id": "m503kDzU9vaP",
        "colab_type": "code",
        "colab": {}
      },
      "source": [
        "with ZipFile(data_path / filename) as f:\n",
        "    f.extractall(data_path)"
      ],
      "execution_count": 0,
      "outputs": []
    },
    {
      "cell_type": "code",
      "metadata": {
        "id": "kHra8FVp967K",
        "colab_type": "code",
        "colab": {
          "base_uri": "https://localhost:8080/",
          "height": 85
        },
        "outputId": "22af7fcb-9d3b-46fc-c094-c53bca05a1bc"
      },
      "source": [
        "!ls data/data/names"
      ],
      "execution_count": 6,
      "outputs": [
        {
          "output_type": "stream",
          "text": [
            "Arabic.txt   English.txt  Irish.txt\tPolish.txt\tSpanish.txt\n",
            "Chinese.txt  French.txt   Italian.txt\tPortuguese.txt\tVietnamese.txt\n",
            "Czech.txt    German.txt   Japanese.txt\tRussian.txt\n",
            "Dutch.txt    Greek.txt\t  Korean.txt\tScottish.txt\n"
          ],
          "name": "stdout"
        }
      ]
    },
    {
      "cell_type": "code",
      "metadata": {
        "id": "RMplG6t1FbSR",
        "colab_type": "code",
        "colab": {
          "base_uri": "https://localhost:8080/",
          "height": 102
        },
        "outputId": "077bd0e5-e9b3-417e-a977-36f5ae393645"
      },
      "source": [
        "!python3 -m pip install unidecode"
      ],
      "execution_count": 7,
      "outputs": [
        {
          "output_type": "stream",
          "text": [
            "Collecting unidecode\n",
            "\u001b[?25l  Downloading https://files.pythonhosted.org/packages/d0/42/d9edfed04228bacea2d824904cae367ee9efd05e6cce7ceaaedd0b0ad964/Unidecode-1.1.1-py2.py3-none-any.whl (238kB)\n",
            "\r\u001b[K     |█▍                              | 10kB 11.7MB/s eta 0:00:01\r\u001b[K     |██▊                             | 20kB 3.1MB/s eta 0:00:01\r\u001b[K     |████▏                           | 30kB 4.5MB/s eta 0:00:01\r\u001b[K     |█████▌                          | 40kB 2.9MB/s eta 0:00:01\r\u001b[K     |██████▉                         | 51kB 3.5MB/s eta 0:00:01\r\u001b[K     |████████▎                       | 61kB 4.2MB/s eta 0:00:01\r\u001b[K     |█████████▋                      | 71kB 4.8MB/s eta 0:00:01\r\u001b[K     |███████████                     | 81kB 5.4MB/s eta 0:00:01\r\u001b[K     |████████████▍                   | 92kB 6.0MB/s eta 0:00:01\r\u001b[K     |█████████████▊                  | 102kB 4.7MB/s eta 0:00:01\r\u001b[K     |███████████████▏                | 112kB 4.7MB/s eta 0:00:01\r\u001b[K     |████████████████▌               | 122kB 4.7MB/s eta 0:00:01\r\u001b[K     |█████████████████▉              | 133kB 4.7MB/s eta 0:00:01\r\u001b[K     |███████████████████▎            | 143kB 4.7MB/s eta 0:00:01\r\u001b[K     |████████████████████▋           | 153kB 4.7MB/s eta 0:00:01\r\u001b[K     |██████████████████████          | 163kB 4.7MB/s eta 0:00:01\r\u001b[K     |███████████████████████▍        | 174kB 4.7MB/s eta 0:00:01\r\u001b[K     |████████████████████████▊       | 184kB 4.7MB/s eta 0:00:01\r\u001b[K     |██████████████████████████▏     | 194kB 4.7MB/s eta 0:00:01\r\u001b[K     |███████████████████████████▌    | 204kB 4.7MB/s eta 0:00:01\r\u001b[K     |████████████████████████████▉   | 215kB 4.7MB/s eta 0:00:01\r\u001b[K     |██████████████████████████████▎ | 225kB 4.7MB/s eta 0:00:01\r\u001b[K     |███████████████████████████████▋| 235kB 4.7MB/s eta 0:00:01\r\u001b[K     |████████████████████████████████| 245kB 4.7MB/s \n",
            "\u001b[?25hInstalling collected packages: unidecode\n",
            "Successfully installed unidecode-1.1.1\n"
          ],
          "name": "stdout"
        }
      ]
    },
    {
      "cell_type": "code",
      "metadata": {
        "id": "qVdzkzfyA4Ub",
        "colab_type": "code",
        "colab": {}
      },
      "source": [
        "import glob\n",
        "import os\n",
        "import unidecode\n",
        "\n",
        "def findFiles(path):\n",
        "    return glob.glob(path)\n",
        "\n",
        "# print(findFiles(\"data/data/names/*.txt\"))\n",
        "\n",
        "def readLines(filename):\n",
        "    lines = open(filename, encoding=\"utf-8\").read().strip().split(\"\\n\")\n",
        "    return [unidecode.unidecode(n) for n in lines]\n",
        "\n",
        "all_categories = []\n",
        "category_lines = {}\n",
        "\n",
        "for filename in findFiles(\"data/data/names/*.txt\"):\n",
        "    category = os.path.splitext(os.path.basename(filename))[0]\n",
        "    all_categories.append(category)\n",
        "    lines = readLines(filename)\n",
        "    category_lines[category] = lines\n",
        "\n",
        "n_categories = len(all_categories)"
      ],
      "execution_count": 0,
      "outputs": []
    },
    {
      "cell_type": "code",
      "metadata": {
        "id": "NyTcjfYfD0PW",
        "colab_type": "code",
        "colab": {
          "base_uri": "https://localhost:8080/",
          "height": 34
        },
        "outputId": "7fca21ed-3029-4ac7-ba33-0b3150c20d55"
      },
      "source": [
        "category_lines[all_categories[2]][:5]"
      ],
      "execution_count": 9,
      "outputs": [
        {
          "output_type": "execute_result",
          "data": {
            "text/plain": [
              "['Khoury', 'Nahas', 'Daher', 'Gerges', 'Nazari']"
            ]
          },
          "metadata": {
            "tags": []
          },
          "execution_count": 9
        }
      ]
    },
    {
      "cell_type": "code",
      "metadata": {
        "id": "oySf9lZZBUwx",
        "colab_type": "code",
        "colab": {
          "base_uri": "https://localhost:8080/",
          "height": 102
        },
        "outputId": "793f315c-5552-4c8e-a688-2458c94be1f0"
      },
      "source": [
        "import string\n",
        "\n",
        "all_letters = string.ascii_letters + \" .,;'\"\n",
        "\n",
        "def letter_to_index(letter):\n",
        "    return all_letters.find(letter)\n",
        "\n",
        "def letter_one_hot(letter):\n",
        "    res = torch.zeros(len(all_letters))\n",
        "    res[letter_to_index(letter)] = 1\n",
        "    return res\n",
        "    \n",
        "def line_to_tensor(line):\n",
        "    res = torch.zeros(len(line), 1, len(all_letters))  # WHY THIS SHAPE IN PARTICULAR?!?!\n",
        "    for l_i, letter in enumerate(line):\n",
        "        res[l_i][0][letter_to_index(letter)] = 1\n",
        "    \n",
        "    return res\n",
        "\n",
        "print(letter_one_hot(\"X\"))\n",
        "print(line_to_tensor(\"Kinshuk\").shape)"
      ],
      "execution_count": 10,
      "outputs": [
        {
          "output_type": "stream",
          "text": [
            "tensor([0., 0., 0., 0., 0., 0., 0., 0., 0., 0., 0., 0., 0., 0., 0., 0., 0., 0.,\n",
            "        0., 0., 0., 0., 0., 0., 0., 0., 0., 0., 0., 0., 0., 0., 0., 0., 0., 0.,\n",
            "        0., 0., 0., 0., 0., 0., 0., 0., 0., 0., 0., 0., 0., 1., 0., 0., 0., 0.,\n",
            "        0., 0., 0.])\n",
            "torch.Size([7, 1, 57])\n"
          ],
          "name": "stdout"
        }
      ]
    },
    {
      "cell_type": "code",
      "metadata": {
        "id": "ANThGWhjDuW2",
        "colab_type": "code",
        "colab": {
          "base_uri": "https://localhost:8080/",
          "height": 102
        },
        "outputId": "60ea3983-98fa-477e-e7a9-142224c38163"
      },
      "source": [
        "import torch.nn as nn\n",
        "\n",
        "class RNN(nn.Module):\n",
        "    def __init__(self, input_size, hidden_size, output_size):\n",
        "        super().__init__()\n",
        "        \n",
        "        self.hidden_size = hidden_size\n",
        "        \n",
        "        self.i2h = nn.Linear(input_size + hidden_size, hidden_size)\n",
        "        self.i2o = nn.Linear(input_size + hidden_size, output_size)\n",
        "        self.logsoftmax = nn.LogSoftmax(dim=1)\n",
        "    \n",
        "    def forward(self, inp, hidden):\n",
        "        combined = torch.cat((inp, hidden), 1) #what does 1 do here?\n",
        "        hidden = self.i2h(combined)\n",
        "        output = self.logsoftmax(self.i2o(combined))\n",
        "        return output, hidden\n",
        "    \n",
        "    def hidden_initial(self):\n",
        "        return torch.zeros(1, self.hidden_size)\n",
        "\n",
        "n_hidden = 128\n",
        "net = RNN(len(all_letters), n_hidden, n_categories)\n",
        "print(net)"
      ],
      "execution_count": 28,
      "outputs": [
        {
          "output_type": "stream",
          "text": [
            "RNN(\n",
            "  (i2h): Linear(in_features=185, out_features=128, bias=True)\n",
            "  (i2o): Linear(in_features=185, out_features=18, bias=True)\n",
            "  (logsoftmax): LogSoftmax()\n",
            ")\n"
          ],
          "name": "stdout"
        }
      ]
    },
    {
      "cell_type": "code",
      "metadata": {
        "id": "t7e0cqUvO4DA",
        "colab_type": "code",
        "colab": {
          "base_uri": "https://localhost:8080/",
          "height": 510
        },
        "outputId": "4baa7648-4d36-48db-d56f-f67e94bacc8c"
      },
      "source": [
        "word_tensor = line_to_tensor(\"laptop\")\n",
        "hidden = net.hidden_initial()\n",
        "\n",
        "with torch.no_grad():\n",
        "    output, next_hidden = net(word_tensor[0], hidden)\n",
        "\n",
        "print(output)\n",
        "print(next_hidden)"
      ],
      "execution_count": 12,
      "outputs": [
        {
          "output_type": "stream",
          "text": [
            "tensor([[-2.8889, -2.9365, -2.9535, -2.9496, -2.8199, -2.8956, -2.9550, -2.8208,\n",
            "         -2.7820, -2.7962, -2.8791, -2.9330, -2.9044, -2.8961, -2.8400, -2.8650,\n",
            "         -2.9467, -2.9966]])\n",
            "tensor([[ 5.2664e-02, -6.5702e-02, -7.6484e-02, -7.3609e-03, -2.9969e-02,\n",
            "         -4.1862e-02,  1.0623e-01,  7.3762e-02,  5.1191e-02,  1.9457e-02,\n",
            "          8.5199e-02,  7.3734e-03, -8.0178e-02,  2.5765e-02, -1.3017e-01,\n",
            "          7.7604e-02,  3.5618e-02,  8.2919e-02,  1.0213e-01, -6.6535e-02,\n",
            "          2.2241e-03, -7.2195e-02,  1.1873e-01, -7.8226e-02,  1.8246e-05,\n",
            "         -5.3643e-02,  4.6126e-03,  6.3346e-02,  1.1524e-01,  7.6791e-02,\n",
            "         -9.2321e-02, -8.5055e-02,  3.3518e-02, -5.4979e-03,  9.4237e-02,\n",
            "         -4.9768e-02, -5.6330e-02,  1.6301e-02, -7.4345e-02, -7.1956e-02,\n",
            "          9.6549e-02, -9.7942e-02, -2.8702e-02,  5.8160e-02,  4.1324e-02,\n",
            "          6.2331e-02,  1.3388e-02, -3.3177e-02, -1.9148e-02, -5.4082e-02,\n",
            "          2.4834e-02,  4.1233e-02,  3.7883e-02, -1.6741e-02,  5.9003e-02,\n",
            "         -3.0435e-02,  5.6891e-02, -5.1265e-02, -8.4293e-02, -1.1930e-01,\n",
            "         -6.0992e-02, -6.5393e-02, -2.1810e-02, -1.1767e-01, -1.6553e-02,\n",
            "          1.5891e-02,  1.7458e-02, -7.4676e-03, -4.6736e-02, -1.0445e-01,\n",
            "         -5.6350e-02, -8.0801e-02,  1.2144e-01, -6.1074e-02, -6.3474e-02,\n",
            "         -1.5747e-02,  1.2125e-02, -3.0314e-02, -9.7676e-02,  2.5941e-02,\n",
            "         -2.7646e-02,  3.2209e-03,  6.2417e-02, -1.1481e-01,  3.0636e-02,\n",
            "         -7.7767e-02, -4.6139e-02,  2.0500e-02,  6.8057e-02, -2.2126e-02,\n",
            "         -2.7307e-02, -1.3306e-01,  7.3035e-02,  7.7901e-03, -2.3079e-02,\n",
            "          1.1785e-02, -2.5942e-02, -1.8786e-03,  4.9990e-02,  1.0770e-01,\n",
            "          3.0172e-02,  1.9031e-02,  2.6219e-02,  9.9906e-02, -1.9954e-02,\n",
            "         -1.3744e-02, -1.5713e-02, -4.3983e-02,  2.1873e-02, -8.7845e-03,\n",
            "         -5.2263e-02,  4.3516e-02, -5.0277e-02,  5.6330e-02,  3.6595e-02,\n",
            "          6.3021e-02, -1.0482e-02, -4.3865e-02, -3.5206e-02,  5.8531e-02,\n",
            "         -3.1609e-02, -1.4198e-02, -4.9783e-03, -7.9080e-02, -2.3764e-02,\n",
            "          7.4002e-02, -7.7683e-02, -2.3640e-02]])\n"
          ],
          "name": "stdout"
        }
      ]
    },
    {
      "cell_type": "code",
      "metadata": {
        "id": "BHfOarXuPvK2",
        "colab_type": "code",
        "colab": {
          "base_uri": "https://localhost:8080/",
          "height": 34
        },
        "outputId": "4e9776ba-4a79-4f30-862d-64238101393f"
      },
      "source": [
        "def category_from_output(output):\n",
        "    top_val, top_i = output.topk(1)\n",
        "    category_i = top_i[0].item()\n",
        "    return all_categories[category_i], category_i\n",
        "\n",
        "print(category_from_output(output))"
      ],
      "execution_count": 13,
      "outputs": [
        {
          "output_type": "stream",
          "text": [
            "('French', 8)\n"
          ],
          "name": "stdout"
        }
      ]
    },
    {
      "cell_type": "code",
      "metadata": {
        "id": "vIgZ0N4ETgou",
        "colab_type": "code",
        "colab": {
          "base_uri": "https://localhost:8080/",
          "height": 187
        },
        "outputId": "259f59f5-fff5-455a-f103-711fc7ed07b8"
      },
      "source": [
        "import random\n",
        "\n",
        "def random_training_example():\n",
        "    category = random.choice(all_categories)\n",
        "    category_tensor = torch.tensor([all_categories.index(category)], dtype=torch.long)\n",
        "    line = random.choice(category_lines[category])\n",
        "    line_tensor = line_to_tensor(line)\n",
        "    return category, category_tensor, line, line_tensor\n",
        "\n",
        "for i in range(10):\n",
        "    category, category_tensor, line, line_tensor = random_training_example()\n",
        "    print(\"category: {} shape: {} | line: {} shape: {}\".format(category, category_tensor.shape, line, line_tensor.shape))"
      ],
      "execution_count": 14,
      "outputs": [
        {
          "output_type": "stream",
          "text": [
            "category: German shape: torch.Size([1]) | line: Schwarz shape: torch.Size([7, 1, 57])\n",
            "category: Russian shape: torch.Size([1]) | line: Yagupa shape: torch.Size([6, 1, 57])\n",
            "category: Czech shape: torch.Size([1]) | line: Faltysek shape: torch.Size([8, 1, 57])\n",
            "category: Arabic shape: torch.Size([1]) | line: Ganim shape: torch.Size([5, 1, 57])\n",
            "category: French shape: torch.Size([1]) | line: Allard shape: torch.Size([6, 1, 57])\n",
            "category: Japanese shape: torch.Size([1]) | line: Maruyama shape: torch.Size([8, 1, 57])\n",
            "category: Spanish shape: torch.Size([1]) | line: Oleastro shape: torch.Size([8, 1, 57])\n",
            "category: Spanish shape: torch.Size([1]) | line: Gonzales shape: torch.Size([8, 1, 57])\n",
            "category: Scottish shape: torch.Size([1]) | line: Mccallum shape: torch.Size([8, 1, 57])\n",
            "category: Korean shape: torch.Size([1]) | line: So shape: torch.Size([2, 1, 57])\n"
          ],
          "name": "stdout"
        }
      ]
    },
    {
      "cell_type": "code",
      "metadata": {
        "id": "bZhlLpxrU9j0",
        "colab_type": "code",
        "colab": {}
      },
      "source": [
        "neglog_loss = nn.NLLLoss()"
      ],
      "execution_count": 0,
      "outputs": []
    },
    {
      "cell_type": "code",
      "metadata": {
        "id": "_bqjkd83Vxn6",
        "colab_type": "code",
        "colab": {}
      },
      "source": [
        "def train(category_tensor, line_tensor, net, lr):\n",
        "    hidden = net.hidden_initial()\n",
        "    \n",
        "    net.zero_grad()\n",
        "    \n",
        "    for i in range(line_tensor.size()[0]):\n",
        "        output, hidden = net(line_tensor[i], hidden)\n",
        "    \n",
        "    loss = neglog_loss(output, category_tensor)\n",
        "    loss.backward()\n",
        "    \n",
        "    for p in net.parameters():\n",
        "        p.grad.clamp_(-1, 1)\n",
        "    \n",
        "    for p in net.parameters():\n",
        "        p.data.add_(-lr * p.grad.data)\n",
        "    \n",
        "    return output, loss.item()"
      ],
      "execution_count": 0,
      "outputs": []
    },
    {
      "cell_type": "code",
      "metadata": {
        "id": "OUOLYSpfYgJ4",
        "colab_type": "code",
        "colab": {}
      },
      "source": [
        "import time\n",
        "import math\n",
        "\n",
        "\n",
        "\n",
        "current_loss = 0\n",
        "all_losses = []\n",
        "\n",
        "def timeSince(start_time):\n",
        "    now = time.time()\n",
        "    sec = now - start_time\n",
        "    min = math.floor(sec / 60)\n",
        "    sec -= min * 60\n",
        "    return \"{}m {}s\".format(min, sec)\n",
        "\n",
        "def train_loop(net, n_iters=1000000, print_every=5000, plot_every=5000, lr=0.005):\n",
        "    start_time = time.time()\n",
        "    current_loss = 0\n",
        "    \n",
        "    for i in range(n_iters):\n",
        "        category, category_tensor, line, line_tensor = random_training_example()\n",
        "        output, loss = train(category_tensor, line_tensor, net, lr)\n",
        "        current_loss += loss\n",
        "        \n",
        "        if i % print_every == 0:\n",
        "            guess, guess_i = category_from_output(output)\n",
        "            correct = '✓' if guess == category else '✗ ({})'.format(category)\n",
        "            print(\"#{} {}%% ({}) {} {} / {} {}\".format(\n",
        "                i,\n",
        "                i * 100 / n_iters,\n",
        "                timeSince(start_time),\n",
        "                loss,\n",
        "                line,\n",
        "                guess,\n",
        "                correct\n",
        "            ))\n",
        "        \n",
        "#         all_losses.append(loss)\n",
        "\n",
        "        if i % plot_every == 0:\n",
        "            all_losses.append(current_loss / plot_every)\n",
        "            current_loss = 0"
      ],
      "execution_count": 0,
      "outputs": []
    },
    {
      "cell_type": "code",
      "metadata": {
        "id": "N2_759_TrTp3",
        "colab_type": "code",
        "colab": {
          "base_uri": "https://localhost:8080/",
          "height": 697
        },
        "outputId": "7605257c-2434-4d9a-beaa-33969e744ed2"
      },
      "source": [
        "train_loop(net, n_iters=50000, lr=0.005)\n",
        "train_loop(net, n_iters=50000, lr=0.001)\n",
        "train_loop(net, n_iters=50000, lr=0.0005)\n",
        "train_loop(net, n_iters=50000, lr=0.0001)"
      ],
      "execution_count": 31,
      "outputs": [
        {
          "output_type": "stream",
          "text": [
            "#0 0.0%% (0m 0.006636381149291992s) 1.8541642427444458 Kalogeria / Russian ✗ (Greek)\n",
            "#5000 10.0%% (0m 8.155802726745605s) 3.201214075088501 Zuraw / Arabic ✗ (Polish)\n",
            "#10000 20.0%% (0m 15.9251070022583s) 1.9072155952453613 Steele / French ✗ (English)\n",
            "#15000 30.0%% (0m 23.70411515235901s) 3.9105615615844727 Wright / French ✗ (Scottish)\n",
            "#20000 40.0%% (0m 31.40263056755066s) 1.5611915588378906 Gray / Scottish ✓\n",
            "#25000 50.0%% (0m 39.170746088027954s) 1.4482754468917847 Ortiz / Spanish ✓\n",
            "#30000 60.0%% (0m 46.90133357048035s) 0.7497859001159668 Cathain / Irish ✓\n",
            "#35000 70.0%% (0m 54.67768883705139s) 0.48497724533081055 Kojima / Japanese ✓\n",
            "#40000 80.0%% (1m 2.4432590007781982s) 1.859940767288208 Nyrko / Polish ✗ (Russian)\n",
            "#45000 90.0%% (1m 10.199062824249268s) 0.448610782623291 Jung  / Korean ✓\n",
            "#0 0.0%% (0m 0.0011587142944335938s) 1.3674941062927246 Cha / Vietnamese ✗ (Korean)\n",
            "#5000 10.0%% (0m 7.7859697341918945s) 0.7935202121734619 Brown / Scottish ✓\n",
            "#10000 20.0%% (0m 15.514846563339233s) 1.1467664241790771 Close / Greek ✓\n",
            "#15000 30.0%% (0m 23.254376888275146s) 1.9693968296051025 Whalen / German ✗ (Irish)\n",
            "#20000 40.0%% (0m 31.060617923736572s) 2.7199769020080566 Blanchett / Scottish ✗ (French)\n",
            "#25000 50.0%% (0m 38.80636501312256s) 3.313957691192627 King / Chinese ✗ (Scottish)\n",
            "#30000 60.0%% (0m 46.503745794296265s) 0.04871702194213867 Nomikos / Greek ✓\n",
            "#35000 70.0%% (0m 54.27190089225769s) 1.4566960334777832 Haik / Korean ✗ (Arabic)\n",
            "#40000 80.0%% (1m 2.0158817768096924s) 2.4758877754211426 Marino / Portuguese ✗ (Spanish)\n",
            "#45000 90.0%% (1m 9.77164912223816s) 1.9176406860351562 Sanna / Spanish ✗ (Italian)\n",
            "#0 0.0%% (0m 0.0015611648559570312s) 1.466752290725708 Rusnak / Czech ✗ (Polish)\n",
            "#5000 10.0%% (0m 7.716630697250366s) 0.012706756591796875 O'Malley / Irish ✓\n",
            "#10000 20.0%% (0m 15.421316862106323s) 1.9638586044311523 Christou / Scottish ✗ (Greek)\n",
            "#15000 30.0%% (0m 23.235219717025757s) 1.5994995832443237 Higgs / English ✓\n",
            "#20000 40.0%% (0m 31.03023099899292s) 0.12942934036254883 Mustafa / Arabic ✓\n",
            "#25000 50.0%% (0m 38.8887140750885s) 1.7880761623382568 Perugia / Czech ✗ (Italian)\n",
            "#30000 60.0%% (0m 47.33134460449219s) 0.13725948333740234 Maksimov / Russian ✓\n",
            "#35000 70.0%% (0m 55.314359188079834s) 0.0008554458618164062 Panayiotopoulos / Greek ✓\n",
            "#40000 80.0%% (1m 3.124758005142212s) 0.34001731872558594 Safar / Arabic ✓\n",
            "#45000 90.0%% (1m 10.876969575881958s) 0.2736833095550537 Mochan / Irish ✓\n",
            "#0 0.0%% (0m 0.0014181137084960938s) 2.153090238571167 Wruck / Scottish ✗ (German)\n",
            "#5000 10.0%% (0m 7.806419610977173s) 0.1274418830871582 Sabbag / Arabic ✓\n",
            "#10000 20.0%% (0m 15.608760356903076s) 1.1389508247375488 Polites / Greek ✓\n",
            "#15000 30.0%% (0m 23.94628596305847s) 1.3830788135528564 Vives / Spanish ✓\n",
            "#20000 40.0%% (0m 31.796396493911743s) 0.8039824962615967 Herback / Czech ✓\n",
            "#25000 50.0%% (0m 39.58073043823242s) 2.1746411323547363 Qureshi / Italian ✗ (Arabic)\n",
            "#30000 60.0%% (0m 47.316142559051514s) 3.7190611362457275 Names / Portuguese ✗ (Irish)\n",
            "#35000 70.0%% (0m 55.06139397621155s) 2.9710638523101807 Lee / Chinese ✗ (Korean)\n",
            "#40000 80.0%% (1m 2.867365837097168s) 0.9992704391479492 Esteves / Portuguese ✓\n",
            "#45000 90.0%% (1m 10.60085916519165s) 1.2130098342895508 Gomes / Portuguese ✓\n"
          ],
          "name": "stdout"
        }
      ]
    },
    {
      "cell_type": "code",
      "metadata": {
        "id": "GtNbAUTobSN1",
        "colab_type": "code",
        "colab": {
          "base_uri": "https://localhost:8080/",
          "height": 612
        },
        "outputId": "cab723e2-2be7-4f9c-cd78-ebec2c32df6c"
      },
      "source": [
        "import matplotlib.pyplot as plt\n",
        "\n",
        "plt.figure()\n",
        "plt.plot(all_losses)"
      ],
      "execution_count": 32,
      "outputs": [
        {
          "output_type": "execute_result",
          "data": {
            "text/plain": [
              "[<matplotlib.lines.Line2D at 0x7fd77d976978>]"
            ]
          },
          "metadata": {
            "tags": []
          },
          "execution_count": 32
        },
        {
          "output_type": "display_data",
          "data": {
            "image/png": "[encoded data removed]",
            "text/plain": [
              "<Figure size 720x720 with 1 Axes>"
            ]
          },
          "metadata": {
            "tags": []
          }
        }
      ]
    },
    {
      "cell_type": "code",
      "metadata": {
        "id": "963wXvr8b7F-",
        "colab_type": "code",
        "colab": {}
      },
      "source": [
        "confusion_matrix = torch.zeros(n_categories, n_categories)\n",
        "n_confusion = 10000\n",
        "\n",
        "def evaluate_tensor(net, line_tensor):\n",
        "    hidden = net.hidden_initial()\n",
        "    \n",
        "    output = None\n",
        "    with torch.no_grad():\n",
        "        for i in range(line_tensor.shape[0]):\n",
        "            output, hidden = net(line_tensor[i], hidden)\n",
        "    \n",
        "    return output\n",
        "\n",
        "def predict_single(net, line, top_k=3):\n",
        "    with torch.no_grad():\n",
        "        output = evaluate_tensor(net, line_to_tensor(line))\n",
        "        \n",
        "        top_v, top_i = output.topk(top_k)\n",
        "#         print(top_v, top_i)\n",
        "        \n",
        "        for i in range(top_k):\n",
        "            value = top_v[0][i].item()\n",
        "            category_index = top_i[0][i].item()\n",
        "            print(\"{}) {} ({})\".format(i+1, all_categories[category_index], value))"
      ],
      "execution_count": 0,
      "outputs": []
    },
    {
      "cell_type": "code",
      "metadata": {
        "id": "7ukl3eyykVkP",
        "colab_type": "code",
        "colab": {}
      },
      "source": [
        "for i in range(n_confusion):\n",
        "    category, category_tensor, line, line_tensor = random_training_example()\n",
        "    output = evaluate_tensor(net, line_tensor)\n",
        "    guess, guess_i = category_from_output(output)\n",
        "    real_category_i = all_categories.index(category)\n",
        "    confusion_matrix[real_category_i][guess_i] += 1"
      ],
      "execution_count": 0,
      "outputs": []
    },
    {
      "cell_type": "code",
      "metadata": {
        "id": "tcO2DRFUf8qA",
        "colab_type": "code",
        "colab": {
          "base_uri": "https://localhost:8080/",
          "height": 982
        },
        "outputId": "caff490b-3f8e-4fcd-de6e-866de6d01890"
      },
      "source": [
        "import numpy as np\n",
        "\n",
        "plt.rcParams[\"figure.figsize\"] = [10, 10]\n",
        "plt.matshow(confusion_matrix)\n",
        "plt.xticks(np.arange(len(all_categories)), all_categories, rotation=90)\n",
        "plt.yticks(np.arange(len(all_categories)), all_categories)"
      ],
      "execution_count": 34,
      "outputs": [
        {
          "output_type": "execute_result",
          "data": {
            "text/plain": [
              "([<matplotlib.axis.YTick at 0x7fd779e9f898>,\n",
              "  <matplotlib.axis.YTick at 0x7fd779fb8278>,\n",
              "  <matplotlib.axis.YTick at 0x7fd779e9cd30>,\n",
              "  <matplotlib.axis.YTick at 0x7fd779e5c630>,\n",
              "  <matplotlib.axis.YTick at 0x7fd779ed25c0>,\n",
              "  <matplotlib.axis.YTick at 0x7fd779eca6a0>,\n",
              "  <matplotlib.axis.YTick at 0x7fd779e5cc18>,\n",
              "  <matplotlib.axis.YTick at 0x7fd779e5cf28>,\n",
              "  <matplotlib.axis.YTick at 0x7fd779e63470>,\n",
              "  <matplotlib.axis.YTick at 0x7fd779e63978>,\n",
              "  <matplotlib.axis.YTick at 0x7fd779e63e80>,\n",
              "  <matplotlib.axis.YTick at 0x7fd779e6b3c8>,\n",
              "  <matplotlib.axis.YTick at 0x7fd779e6b8d0>,\n",
              "  <matplotlib.axis.YTick at 0x7fd779e6bdd8>,\n",
              "  <matplotlib.axis.YTick at 0x7fd779e63e48>,\n",
              "  <matplotlib.axis.YTick at 0x7fd779e5c588>,\n",
              "  <matplotlib.axis.YTick at 0x7fd779e762b0>,\n",
              "  <matplotlib.axis.YTick at 0x7fd779e767b8>],\n",
              " <a list of 18 Text yticklabel objects>)"
            ]
          },
          "metadata": {
            "tags": []
          },
          "execution_count": 34
        },
        {
          "output_type": "display_data",
          "data": {
            "image/png": "[encoded data removed]",
            "text/plain": [
              "<Figure size 720x720 with 1 Axes>"
            ]
          },
          "metadata": {
            "tags": []
          }
        }
      ]
    },
    {
      "cell_type": "code",
      "metadata": {
        "id": "EMvAcLdvg_T-",
        "colab_type": "code",
        "colab": {
          "base_uri": "https://localhost:8080/",
          "height": 68
        },
        "outputId": "222e3a2f-d5d7-422d-8154-5f03dea55d24"
      },
      "source": [
        "s = \"Kinshuk\"\n",
        "predict_single(net, s)"
      ],
      "execution_count": 66,
      "outputs": [
        {
          "output_type": "stream",
          "text": [
            "1) Czech (-1.1865978240966797)\n",
            "2) Russian (-1.4398428201675415)\n",
            "3) Japanese (-2.349774122238159)\n"
          ],
          "name": "stdout"
        }
      ]
    },
    {
      "cell_type": "code",
      "metadata": {
        "id": "mn74GhcakYjQ",
        "colab_type": "code",
        "colab": {}
      },
      "source": [
        ""
      ],
      "execution_count": 0,
      "outputs": []
    }
  ]
}